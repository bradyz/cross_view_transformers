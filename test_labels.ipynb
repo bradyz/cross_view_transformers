{
 "cells": [
  {
   "cell_type": "code",
   "execution_count": 1,
   "metadata": {},
   "outputs": [],
   "source": [
    "import numpy as np\n",
    "from pathlib import Path\n",
    "from IPython.display import Image as displayIMG\n",
    "from PIL import Image "
   ]
  },
  {
   "cell_type": "code",
   "execution_count": 133,
   "metadata": {},
   "outputs": [],
   "source": [
    "label_pth = Path(\"/srv/share2/apatni30/cvt_labels_argoverse2/adf9a841-e0db-30ab-b5b3-bf0b61658e1e\")\n",
    "timestamp = 315972239260054000\n",
    "\n",
    "label_pth = Path(\"/srv/share2/apatni30/cvt_labels_argoverse2/e50e7698-de3d-355f-aca2-eddd09c09533\")\n",
    "timestamp = 315971202060078000\n",
    "\n",
    "label_pth = Path(\"/srv/share2/apatni30/cvt_labels_argoverse2/05853f69-f948-3d04-8d64-d4e721c0e1a5\")\n",
    "timestamp = 315974330259989000\n",
    "aux_path = label_pth.joinpath(f'aux_{timestamp}.npz')\n",
    "bev_path = label_pth.joinpath(f'bev_{timestamp}.png')\n",
    "visb_path = label_pth.joinpath(f'visibility_{timestamp}.png')"
   ]
  },
  {
   "cell_type": "code",
   "execution_count": 134,
   "metadata": {},
   "outputs": [
    {
     "data": {
      "image/png": "[encoded data removed]",
      "text/plain": [
       "<PIL.Image.Image image mode=L size=200x200>"
      ]
     },
     "execution_count": 134,
     "metadata": {},
     "output_type": "execute_result"
    }
   ],
   "source": [
    "# Test the Auxiliary labels (modulate 0->7 to see the various layers)\n",
    "# [segmentation, center_score, center_offset_x, center_offset_y, center_o, center_h, center_w]\n",
    "aux = np.load(aux_path)\n",
    "Image.fromarray(aux['aux'][:,:,1], mode=\"L\")"
   ]
  },
  {
   "cell_type": "code",
   "execution_count": 135,
   "metadata": {},
   "outputs": [],
   "source": [
    "def decode(img, n):\n",
    "    \"\"\"\n",
    "    returns (h, w, n) np.int32 {0, 1}\n",
    "    \"\"\"\n",
    "    shift = np.arange(n, dtype=np.int32)[None, None]\n",
    "\n",
    "    x = np.array(img)[..., None]\n",
    "    x = (x >> shift) & 1\n",
    "\n",
    "    return x\n",
    "bev_semantic_masks = np.asarray(Image.open(bev_path))\n",
    "bev_semantic_masks = decode(bev_semantic_masks, 11)"
   ]
  },
  {
   "cell_type": "code",
   "execution_count": 142,
   "metadata": {},
   "outputs": [
    {
     "data": {
      "image/png": "[encoded data removed]",
      "text/plain": [
       "<PIL.Image.Image image mode=1 size=200x200>"
      ]
     },
     "execution_count": 142,
     "metadata": {},
     "output_type": "execute_result"
    }
   ],
   "source": [
    "Image.fromarray(bev_semantic_masks[:,:,3], '1')"
   ]
  }
 ],
 "metadata": {
  "kernelspec": {
   "display_name": "rasternet-v2",
   "language": "python",
   "name": "python3"
  },
  "language_info": {
   "codemirror_mode": {
    "name": "ipython",
    "version": 3
   },
   "file_extension": ".py",
   "mimetype": "text/x-python",
   "name": "python",
   "nbconvert_exporter": "python",
   "pygments_lexer": "ipython3",
   "version": "3.8.16"
  },
  "orig_nbformat": 4,
  "vscode": {
   "interpreter": {
    "hash": "b5fc7226648a9ead25a562411536e74e85341467ba9ff692902122fb42edf84d"
   }
  }
 },
 "nbformat": 4,
 "nbformat_minor": 2
}
