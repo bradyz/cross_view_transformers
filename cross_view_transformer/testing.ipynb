{
 "cells": [
  {
   "cell_type": "code",
   "execution_count": 9,
   "metadata": {},
   "outputs": [],
   "source": [
    "import json\n",
    "import torch\n",
    "import pdb\n",
    "import pyarrow.feather as feather\n",
    "from typing import List, Tuple, Any, Dict\n",
    "from PIL import Image\n",
    "import numpy as np\n",
    "import pandas as pd\n",
    "import pickle\n",
    "from pathlib import Path\n",
    "\n",
    "from av2.datasets.sensor.av2_sensor_dataloader import AV2SensorDataLoader\n",
    "from av2.datasets.sensor.sensor_dataloader import SensorDataloader\n",
    "from av2.datasets.sensor.constants import RingCameras, AnnotationCategories\n",
    "from av2.geometry.camera.pinhole_camera import PinholeCamera\n",
    "from av2.map.map_api import ArgoverseStaticMap, DrivableAreaMapLayer\n",
    "from av2.geometry.se3 import SE3\n",
    "from av2.geometry.geometry import compute_interior_points_mask\n",
    "from av2.rendering.rasterize import xyz_to_bev\n",
    "from av2.structures.cuboid import CuboidList\n",
    "from av2.utils.io import read_city_SE3_ego, read_img\n",
    "import random\n",
    "\n",
    "\n",
    "STATIC = [\n",
    "    AnnotationCategories.BOLLARD ,\n",
    "    AnnotationCategories.CONSTRUCTION_BARREL ,\n",
    "    AnnotationCategories.CONSTRUCTION_CONE ,\n",
    "    AnnotationCategories.MOBILE_PEDESTRIAN_CROSSING_SIGN ,\n",
    "    AnnotationCategories.SIGN ,\n",
    "    AnnotationCategories.STOP_SIGN ,\n",
    "    AnnotationCategories.TRAFFIC_LIGHT_TRAILER ,\n",
    "    AnnotationCategories.MOBILE_PEDESTRIAN_CROSSING_SIGN ,\n",
    "\n",
    "          ]\n",
    "DYNAMIC = [\n",
    "    AnnotationCategories.ARTICULATED_BUS ,\n",
    "    AnnotationCategories.BICYCLE ,\n",
    "    AnnotationCategories.ANIMAL ,\n",
    "    AnnotationCategories.BICYCLIST ,\n",
    "    AnnotationCategories.BOX_TRUCK ,\n",
    "    AnnotationCategories.BUS ,\n",
    "    AnnotationCategories.DOG ,\n",
    "    AnnotationCategories.LARGE_VEHICLE ,\n",
    "    AnnotationCategories.MESSAGE_BOARD_TRAILER ,\n",
    "    AnnotationCategories.MOTORCYCLE ,\n",
    "    AnnotationCategories.MOTORCYCLIST ,\n",
    "    AnnotationCategories.OFFICIAL_SIGNALER ,\n",
    "    AnnotationCategories.PEDESTRIAN ,\n",
    "    AnnotationCategories.BICYCLIST ,\n",
    "    AnnotationCategories.RAILED_VEHICLE ,\n",
    "    AnnotationCategories.REGULAR_VEHICLE ,\n",
    "    AnnotationCategories.SCHOOL_BUS ,\n",
    "    AnnotationCategories.STROLLER ,\n",
    "    AnnotationCategories.TRUCK ,\n",
    "    AnnotationCategories.TRUCK_CAB ,\n",
    "    AnnotationCategories.VEHICULAR_TRAILER ,\n",
    "    AnnotationCategories.WHEELCHAIR ,\n",
    "    AnnotationCategories.WHEELED_RIDER ,\n",
    "    AnnotationCategories.WHEELED_DEVICE ,\n",
    "          ]\n",
    "NUM_CLASSES = len(STATIC) + len(DYNAMIC)\n",
    "\n",
    "CLASS_TO_LAYER_INDEX: Dict[Any,int] = {\n",
    "    \"roi\": 0,\n",
    "    \"drivable_area\": 1,\n",
    "    \"lane_boundary\": 2,\n",
    "    AnnotationCategories.RAILED_VEHICLE : 3,\n",
    "    AnnotationCategories.REGULAR_VEHICLE : 3,\n",
    "    AnnotationCategories.LARGE_VEHICLE : 3,\n",
    "    \n",
    "    AnnotationCategories.BOX_TRUCK : 4,\n",
    "    AnnotationCategories.TRUCK_CAB : 4,\n",
    "    AnnotationCategories.TRUCK : 4,\n",
    "\n",
    "    AnnotationCategories.ARTICULATED_BUS : 5,\n",
    "    AnnotationCategories.BUS : 5,\n",
    "    AnnotationCategories.SCHOOL_BUS : 5,\n",
    "\n",
    "    AnnotationCategories.VEHICULAR_TRAILER : 6,\n",
    "    \n",
    "    AnnotationCategories.BOLLARD: 7,\n",
    "    AnnotationCategories.CONSTRUCTION_BARREL : 7,\n",
    "    AnnotationCategories.CONSTRUCTION_CONE : 7,\n",
    "    \n",
    "    AnnotationCategories.PEDESTRIAN : 8,\n",
    "    AnnotationCategories.OFFICIAL_SIGNALER : 8,\n",
    "    AnnotationCategories.STROLLER : 8,\n",
    "    AnnotationCategories.WHEELCHAIR : 8,\n",
    "\n",
    "    AnnotationCategories.MOTORCYCLIST : 9,\n",
    "    AnnotationCategories.MOTORCYCLE : 9,\n",
    "    \n",
    "    AnnotationCategories.WHEELED_RIDER : 10,\n",
    "    AnnotationCategories.WHEELED_DEVICE : 10,\n",
    "    AnnotationCategories.BICYCLE : 10,\n",
    "    AnnotationCategories.BICYCLIST : 10,    \n",
    "\n",
    "    # NOT INCLUDED AT THE MOMENT\n",
    "    # AnnotationCategories.MOBILE_PEDESTRIAN_CROSSING_SIGN : 1,\n",
    "    # AnnotationCategories.SIGN : 1,\n",
    "    # AnnotationCategories.STOP_SIGN : 1,\n",
    "    # AnnotationCategories.TRAFFIC_LIGHT_TRAILER : 1,\n",
    "    # AnnotationCategories.MESSAGE_BOARD_TRAILER : 1,\n",
    "    # AnnotationCategories.ANIMAL : 1,\n",
    "    # AnnotationCategories.DOG : 1,\n",
    "}\n",
    "NUM_LAYERS = max(CLASS_TO_LAYER_INDEX.values())+1\n",
    "from cross_view_transformer.data.argoverse2_dataset import Argoverse2Dataset\n"
   ]
  },
  {
   "cell_type": "code",
   "execution_count": 10,
   "metadata": {},
   "outputs": [],
   "source": [
    "import pickle\n",
    "with open('/srv/share2/apatni30/tmp/AV2_dataset.pkl', 'rb') as f:\n",
    "    data = pickle.load(f)"
   ]
  },
  {
   "cell_type": "code",
   "execution_count": null,
   "metadata": {},
   "outputs": [
    {
     "name": "stderr",
     "output_type": "stream",
     "text": [
      "/tmp/ipykernel_12018/1674624226.py:5: FutureWarning: arrays to stack must be passed as a \"sequence\" type such as list or tuple. Support for non-sequence iterables such as generators is deprecated as of NumPy 1.16 and will raise an error in the future.\n",
      "  points_xy_wrt_src = np.vstack(map(np.ravel, np.meshgrid(xpoints, ypoints, zpoints))).T\n"
     ]
    }
   ],
   "source": [
    "pose = data.samples[0]['pose']\n",
    "xpoints = np.arange(-data.bev_info['h_meters']/2,data.bev_info['h_meters']/2,data.bev_info['h_meters']/data.bev_info['h'])\n",
    "ypoints = np.arange(-data.bev_info['w_meters']/2,data.bev_info['w_meters']/2,data.bev_info['w_meters']/data.bev_info['w'])\n",
    "zpoints = np.array([i/10.0 for i in range(20)])\n",
    "points_xy_wrt_src = np.vstack(map(np.ravel, np.meshgrid(xpoints, ypoints, zpoints))).T\n",
    "points_xy_wrt_city = pose.transform_point_cloud(points_xy_wrt_src) "
   ]
  },
  {
   "cell_type": "code",
   "execution_count": 11,
   "metadata": {},
   "outputs": [
    {
     "name": "stderr",
     "output_type": "stream",
     "text": [
      "/tmp/ipykernel_6697/2273423469.py:5: FutureWarning: arrays to stack must be passed as a \"sequence\" type such as list or tuple. Support for non-sequence iterables such as generators is deprecated as of NumPy 1.16 and will raise an error in the future.\n",
      "  points_xy_wrt_src = np.vstack(map(np.ravel, np.meshgrid(xpoints, ypoints, zpoints))).T\n"
     ]
    }
   ],
   "source": [
    "pose = data.samples[0]['pose']\n",
    "xpoints = np.linspace(-50,50,num=200)\n",
    "ypoints = np.linspace(-50,50,num=200)\n",
    "zpoints = np.linspace(-1,4, num=25)\n",
    "points_xy_wrt_src = np.vstack(map(np.ravel, np.meshgrid(xpoints, ypoints, zpoints))).T\n",
    "points_xy_wrt_city = pose.transform_point_cloud(points_xy_wrt_src) "
   ]
  },
  {
   "cell_type": "code",
   "execution_count": 12,
   "metadata": {},
   "outputs": [
    {
     "name": "stdout",
     "output_type": "stream",
     "text": [
      "BICYCLE 10 [28.74821555 -3.63635741  0.2743679 ]\n",
      "BICYCLE 10 [25.60834662 -4.03108649  0.36394898]\n",
      "BICYCLE 10 [26.99241586 -3.69628393  0.24673647]\n",
      "BICYCLE 10 [29.34124315 -3.70606217  0.25950236]\n",
      "BICYCLE 10 [27.56223208 -3.69766761  0.25269758]\n",
      "BICYCLE 10 [20.80530592 -3.76457699  0.29567019]\n",
      "BICYCLE 10 [26.25814861 -3.63933469  0.23452803]\n",
      "BICYCLE 10 [28.28623167 -3.73667912  0.26390485]\n",
      "BICYCLE 10 [22.86001002 -3.72484468  0.29126832]\n",
      "BICYCLE 10 [21.5543377  -3.67048751  0.30415286]\n",
      "BICYCLE 10 [22.27946561 -3.69072348  0.27115448]\n",
      "BICYCLE 10 [23.48395975 -3.60248198  0.27505135]\n",
      "BICYCLE 10 [24.15743605 -3.74853161  0.25174485]\n",
      "LARGE_VEHICLE 3 [27.95762134 28.21340745  0.75144342]\n",
      "LARGE_VEHICLE 3 [2.00340873e+02 1.03033117e+00 1.97238947e-01]\n",
      "LARGE_VEHICLE 3 [-95.8922699    9.69503511   1.57596322]\n",
      "REGULAR_VEHICLE 3 [104.42907461   7.19997054   0.2941071 ]\n",
      "REGULAR_VEHICLE 3 [5.39231048e+01 1.32876457e+01 2.53203623e-02]\n",
      "REGULAR_VEHICLE 3 [84.74432997  0.27372219  0.21829592]\n",
      "REGULAR_VEHICLE 3 [-9.79284932 -2.9572786   0.50390681]\n",
      "REGULAR_VEHICLE 3 [53.29881778 -2.66805868  0.13355852]\n",
      "REGULAR_VEHICLE 3 [-3.98797569 -3.07324773  0.65245788]\n",
      "REGULAR_VEHICLE 3 [ 6.01299936 -3.02434808  0.43985084]\n",
      "REGULAR_VEHICLE 3 [-24.78604245  13.27547771   0.51764932]\n",
      "REGULAR_VEHICLE 3 [-27.54184631  28.04625686   0.76766941]\n",
      "REGULAR_VEHICLE 3 [71.14864018  0.36242645  0.14233334]\n",
      "REGULAR_VEHICLE 3 [39.25157457 -2.73873601  0.26725516]\n",
      "REGULAR_VEHICLE 3 [-99.55069652  -3.20060414   0.77421895]\n",
      "REGULAR_VEHICLE 3 [84.98518168  2.90600014  0.19407938]\n",
      "REGULAR_VEHICLE 3 [-55.96646457 -11.82309625   0.79404882]\n",
      "REGULAR_VEHICLE 3 [106.83465365   2.9915314    0.58896683]\n",
      "REGULAR_VEHICLE 3 [-39.01549113  12.48646235   0.6047964 ]\n",
      "REGULAR_VEHICLE 3 [-47.38539903   5.85231583   0.82071593]\n",
      "REGULAR_VEHICLE 3 [11.33137014 -3.14381484  0.6522533 ]\n",
      "REGULAR_VEHICLE 3 [-85.41416797  -3.31836678   0.75648784]\n",
      "REGULAR_VEHICLE 3 [76.66769197 -2.67053863  0.1761589 ]\n",
      "REGULAR_VEHICLE 3 [ 8.38849552 12.65814301  0.50367983]\n",
      "REGULAR_VEHICLE 3 [4.82480349 9.53242859 0.38808136]\n",
      "REGULAR_VEHICLE 3 [26.61174294 12.97228232  0.17286428]\n",
      "REGULAR_VEHICLE 3 [68.63340014 -2.83955058  0.18549946]\n",
      "REGULAR_VEHICLE 3 [56.69890453  3.33342616  0.2321295 ]\n",
      "REGULAR_VEHICLE 3 [-54.97986672  10.16144999   0.8072878 ]\n",
      "REGULAR_VEHICLE 3 [-48.914387     2.47653482   0.83014374]\n",
      "REGULAR_VEHICLE 3 [-25.05408434  -2.89169038   0.79189216]\n",
      "REGULAR_VEHICLE 3 [30.36476639 38.21058504 -0.1324769 ]\n",
      "REGULAR_VEHICLE 3 [-18.296719    -2.97965687   0.55408838]\n",
      "REGULAR_VEHICLE 3 [1.41406766e+02 1.79056664e+00 6.60771413e-02]\n",
      "REGULAR_VEHICLE 3 [142.07424099  -2.755663     0.1513498 ]\n",
      "REGULAR_VEHICLE 3 [-52.53448373 -13.03698227   0.78388439]\n",
      "TRUCK 4 [85.72997395 10.41294293  1.13664214]\n"
     ]
    }
   ],
   "source": [
    "output = np.zeros((NUM_LAYERS, 100, 100))\n",
    "visualized_bev = np.zeros((100, 100, 3))\n",
    "layer_masks = np.zeros((NUM_LAYERS, points_xy_wrt_city.shape[0]))\n",
    "drivable_area_raster = data.avm.raster_drivable_area_layer.get_raster_values_at_coords(points_xy_wrt_city, 0)\n",
    "layer_masks[1,drivable_area_raster==1] = 1\n",
    "for annotation in CuboidList.from_feather(Path(data.log_specific_dataset_path, 'annotations.feather')):\n",
    "    if annotation.timestamp_ns == data.samples[0][\"token\"] and annotation.category in CLASS_TO_LAYER_INDEX:\n",
    "        print(annotation.category, CLASS_TO_LAYER_INDEX[annotation.category], annotation.dst_SE3_object.translation)\n",
    "        # annotation = annotation.transform(pose)      \n",
    "        _, is_interior = annotation.compute_interior_points(points_xy_wrt_src)          \n",
    "        layer_masks[CLASS_TO_LAYER_INDEX[annotation.category], is_interior] = 1"
   ]
  },
  {
   "cell_type": "code",
   "execution_count": 130,
   "metadata": {},
   "outputs": [
    {
     "data": {
      "text/plain": [
       "array([[-50.        , -50.        ,  -1.        ],\n",
       "       [-50.        , -50.        ,  -0.79166667],\n",
       "       [-50.        , -50.        ,  -0.58333333],\n",
       "       ...,\n",
       "       [ 50.        ,  50.        ,   3.58333333],\n",
       "       [ 50.        ,  50.        ,   3.79166667],\n",
       "       [ 50.        ,  50.        ,   4.        ]])"
      ]
     },
     "execution_count": 130,
     "metadata": {},
     "output_type": "execute_result"
    }
   ],
   "source": [
    "points_xy_wrt_src"
   ]
  },
  {
   "cell_type": "code",
   "execution_count": 132,
   "metadata": {},
   "outputs": [
    {
     "data": {
      "text/plain": [
       "5118"
      ]
     },
     "execution_count": 132,
     "metadata": {},
     "output_type": "execute_result"
    }
   ],
   "source": [
    "np.count_nonzero(layer_masks[3])"
   ]
  },
  {
   "cell_type": "code",
   "execution_count": 13,
   "metadata": {},
   "outputs": [],
   "source": [
    "# ==============================================================================\n",
    "#                                                         POINT_CLOUD_2_BIRDSEYE\n",
    "# ==============================================================================\n",
    "def point_cloud_2_birdseye_2(points,\n",
    "                             layers_masks,\n",
    "                             coloring = {\n",
    "                                0: (0,0,0),\n",
    "                                1: (105,105,105),\n",
    "                                2: (0,0,0),\n",
    "                                3: (35,13,232),\n",
    "                                4: (157,30,150),\n",
    "                                5: (251,207,34),\n",
    "                                6: (138,89,196),\n",
    "                                7: (255,147,29),\n",
    "                                8: (189,142,0),\n",
    "                                9: (113,182,255),\n",
    "                                10: (133,41,107),\n",
    "                             },\n",
    "                             img_size=(100,100),\n",
    "                           ):\n",
    "    \"\"\" Creates an 2D birds eye view representation of the point cloud data.\n",
    "\n",
    "    Args:\n",
    "        points:     (numpy array) (N,3)\n",
    "                    N rows of points data\n",
    "                    Each point should be specified by at least 3 elements x,y,z\n",
    "    Returns:\n",
    "        2D numpy array representing an image of the birds eye view.\n",
    "    \"\"\"\n",
    "    # EXTRACT THE POINTS FOR EACH AXIS\n",
    "    assert points.shape[-1] == 3\n",
    "    assert points.shape[0] == layers_masks.shape[-1]\n",
    "\n",
    "    x_points = points[:, 0].astype(np.float32)\n",
    "    y_points = points[:, 1].astype(np.float32)\n",
    "    z_points = points[:, 2].astype(np.float32)\n",
    "\n",
    "    min_x = np.min(x_points)\n",
    "    min_y = np.min(y_points)\n",
    "    max_x = np.max(x_points)\n",
    "    max_y = np.max(y_points)\n",
    "    assert abs(min_x) == abs(max_x)\n",
    "    assert abs(min_y) == abs(max_y)\n",
    "    x_points -= min_x\n",
    "    y_points -= min_y\n",
    "    \n",
    "    res_x = (max_x - min_x)/(img_size[1]-1)\n",
    "    res_y = (max_y - min_y)/(img_size[0]-1)\n",
    "\n",
    "    # CONVERT TO PIXEL POSITION VALUES - Based on resolution\n",
    "    x_img = (-y_points / res_y).astype(np.int32)  # x axis is -y in LIDAR\n",
    "    y_img = (-x_points / res_x).astype(np.int32)  # y axis is -x in LIDAR\n",
    "\n",
    "    #  SHIFT PIXELS TO HAVE MINIMUM BE (0,0)\n",
    "    # floor & ceil used to prevent anything being rounded to below 0 after shift\n",
    "    x_img -= int(np.floor(np.min(x_img)))\n",
    "    y_img -= int(np.ceil(np.min(y_img)))\n",
    "    print(np.min(x_img), np.max(x_img)) # 0, 101\n",
    "    print(np.min(y_img), np.max(y_img)) # 0, 101\n",
    "    \n",
    "    im = np.zeros([img_size[0], img_size[1], 3], dtype=np.uint8)\n",
    "\n",
    "    # FILL PIXEL VALUES IN IMAGE ARRAY\n",
    "    for i in range(len(coloring)):\n",
    "        im[y_img[layers_masks[i]==1], x_img[layers_masks[i]==1]] = coloring[i]\n",
    "\n",
    "    return im"
   ]
  },
  {
   "cell_type": "code",
   "execution_count": 14,
   "metadata": {},
   "outputs": [
    {
     "name": "stdout",
     "output_type": "stream",
     "text": [
      "0 99\n",
      "0 99\n"
     ]
    },
    {
     "data": {
      "text/plain": [
       "True"
      ]
     },
     "execution_count": 14,
     "metadata": {},
     "output_type": "execute_result"
    }
   ],
   "source": [
    "a = point_cloud_2_birdseye_2(points_xy_wrt_src, layer_masks)\n",
    "a.shape\n",
    "import cv2\n",
    "bgr_image = cv2.cvtColor(a, cv2.COLOR_RGB2BGR)\n",
    "cv2.imwrite(\"/srv/share2/apatni30/tmp/bev.png\",bgr_image)"
   ]
  },
  {
   "cell_type": "code",
   "execution_count": 92,
   "metadata": {},
   "outputs": [],
   "source": [
    "cmap = np.zeros(shape=(points_xy_wrt_city.shape[0], 3))\n",
    "drivable_area_raster = data.avm.raster_drivable_area_layer.get_raster_values_at_coords(points_xy_wrt_city, 0)\n",
    "cmap[drivable_area_raster==0] = (220,220,220)\n",
    "cmap[drivable_area_raster==1] = (105,105,105)"
   ]
  },
  {
   "cell_type": "code",
   "execution_count": 93,
   "metadata": {},
   "outputs": [
    {
     "name": "stdout",
     "output_type": "stream",
     "text": [
      "(array([0, 1]), array([307441,  92559]))\n",
      "(array([105., 220.]), array([277677, 922323]))\n"
     ]
    }
   ],
   "source": [
    "print(np.unique(drivable_area_raster, return_counts=True))\n",
    "print(np.unique(cmap,return_counts=True))"
   ]
  },
  {
   "cell_type": "code",
   "execution_count": 94,
   "metadata": {},
   "outputs": [],
   "source": [
    "for annotation in CuboidList.from_feather(Path(data.log_specific_dataset_path, 'annotations.feather')):\n",
    "    if annotation.timestamp_ns == data.samples[0][\"token\"]:\n",
    "        interior_points, is_interior = annotation.compute_interior_points(points_xy_wrt_src)          \n",
    "        if annotation.category in STATIC:\n",
    "            cmap[is_interior] = (255,127,80)            \n",
    "        elif annotation.category in DYNAMIC:\n",
    "            cmap[is_interior] = (30,144,255)"
   ]
  },
  {
   "cell_type": "code",
   "execution_count": 1,
   "metadata": {},
   "outputs": [],
   "source": [
    "# ==============================================================================\n",
    "#                                                         POINT_CLOUD_2_BIRDSEYE\n",
    "# ==============================================================================\n",
    "def point_cloud_2_birdseye(points,\n",
    "                           cmap=None,\n",
    "                           img_size=(100,100),\n",
    "                           ):\n",
    "    \"\"\" Creates an 2D birds eye view representation of the point cloud data.\n",
    "\n",
    "    Args:\n",
    "        points:     (numpy array) (N,3)\n",
    "                    N rows of points data\n",
    "                    Each point should be specified by at least 3 elements x,y,z\n",
    "        res:        (float)\n",
    "                    Desired resolution in metres to use. Each output pixel will\n",
    "                    represent an square region res x res in size.\n",
    "        side_range: (tuple of two floats)\n",
    "                    (-left, right) in metres\n",
    "                    left and right limits of rectangle to look at.\n",
    "        fwd_range:  (tuple of two floats)\n",
    "                    (-behind, front) in metres\n",
    "                    back and front limits of rectangle to look at.\n",
    "        height_range: (tuple of two floats)\n",
    "                    (min, max) heights (in metres) relative to the origin.\n",
    "                    All height values will be clipped to this min and max value,\n",
    "                    such that anything below min will be truncated to min, and\n",
    "                    the same for values above max.\n",
    "    Returns:\n",
    "        2D numpy array representing an image of the birds eye view.\n",
    "    \"\"\"\n",
    "    # EXTRACT THE POINTS FOR EACH AXIS\n",
    "    assert points.shape[-1] == 3\n",
    "\n",
    "    x_points = points[:, 0].astype(np.float32)\n",
    "    y_points = points[:, 1].astype(np.float32)\n",
    "    z_points = points[:, 2].astype(np.float32)\n",
    "\n",
    "    min_x = np.min(x_points)\n",
    "    min_y = np.min(y_points)\n",
    "    max_x = np.max(x_points)\n",
    "    max_y = np.max(y_points)\n",
    "    assert abs(min_x) == abs(max_x)\n",
    "    assert abs(min_y) == abs(max_y)\n",
    "    x_points -= min_x\n",
    "    y_points -= min_y\n",
    "    \n",
    "    res_x = (max_x - min_x)/(img_size[1]-1)\n",
    "    res_y = (max_y - min_y)/(img_size[0]-1)\n",
    "\n",
    "    # CONVERT TO PIXEL POSITION VALUES - Based on resolution\n",
    "    x_img = (-y_points / res_y).astype(np.int32)  # x axis is -y in LIDAR\n",
    "    y_img = (-x_points / res_x).astype(np.int32)  # y axis is -x in LIDAR\n",
    "\n",
    "\n",
    "    #  SHIFT PIXELS TO HAVE MINIMUM BE (0,0)\n",
    "    # floor & ceil used to prevent anything being rounded to below 0 after shift\n",
    "    x_img -= int(np.floor(np.min(x_img)))\n",
    "    y_img -= int(np.ceil(np.min(y_img)))\n",
    "    print(np.min(x_img), np.max(x_img)) # 0, 101\n",
    "    print(np.min(y_img), np.max(y_img)) # 0, 101\n",
    "    \n",
    "    pixel_values = cmap\n",
    "    im = np.zeros([img_size[0], img_size[1], 3], dtype=np.uint8)\n",
    "\n",
    "    # FILL PIXEL VALUES IN IMAGE ARRAY\n",
    "    im[y_img, x_img, :] = pixel_values\n",
    "\n",
    "    return im"
   ]
  },
  {
   "cell_type": "code",
   "execution_count": 2,
   "metadata": {},
   "outputs": [
    {
     "ename": "NameError",
     "evalue": "name 'points_xy_wrt_src' is not defined",
     "output_type": "error",
     "traceback": [
      "\u001b[0;31m---------------------------------------------------------------------------\u001b[0m",
      "\u001b[0;31mNameError\u001b[0m                                 Traceback (most recent call last)",
      "Cell \u001b[0;32mIn[2], line 1\u001b[0m\n\u001b[0;32m----> 1\u001b[0m a \u001b[39m=\u001b[39m point_cloud_2_birdseye(points_xy_wrt_src, cmap)\n\u001b[1;32m      2\u001b[0m a\u001b[39m.\u001b[39mshape\n\u001b[1;32m      3\u001b[0m \u001b[39mimport\u001b[39;00m \u001b[39mcv2\u001b[39;00m\n",
      "\u001b[0;31mNameError\u001b[0m: name 'points_xy_wrt_src' is not defined"
     ]
    }
   ],
   "source": [
    "a = point_cloud_2_birdseye(points_xy_wrt_src, cmap)\n",
    "a.shape\n",
    "import cv2\n",
    "bgr_image = cv2.cvtColor(a, cv2.COLOR_RGB2BGR)\n",
    "cv2.imwrite(\"/srv/share2/apatni30/tmp/bev.png\",bgr_image)"
   ]
  },
  {
   "cell_type": "code",
   "execution_count": 153,
   "metadata": {},
   "outputs": [
    {
     "data": {
      "text/plain": [
       "array([[-50. , -50. ,   0. ],\n",
       "       [-50. , -50. ,   0.1],\n",
       "       [-50. , -50. ,   0.2],\n",
       "       ...,\n",
       "       [ 49.5,  49.5,   1.7],\n",
       "       [ 49.5,  49.5,   1.8],\n",
       "       [ 49.5,  49.5,   1.9]])"
      ]
     },
     "execution_count": 153,
     "metadata": {},
     "output_type": "execute_result"
    }
   ],
   "source": [
    "points_xy_wrt_src"
   ]
  },
  {
   "cell_type": "code",
   "execution_count": 149,
   "metadata": {},
   "outputs": [
    {
     "data": {
      "text/plain": [
       "{'scene': '85026edc-5fdf-308e-a8ef-a1aad1151c50',\n",
       " 'token': 315969704859956000,\n",
       " 'pose': SE3(rotation=array([[-0.03465883, -0.99937794,  0.0065197 ],\n",
       "        [ 0.99938931, -0.03468678, -0.00422418],\n",
       "        [ 0.0044477 ,  0.00636931,  0.99996982]]), translation=array([ 119.98254269, 3624.3439763 ,  -21.9614922 ])),\n",
       " 'cam_ids': range(0, 7),\n",
       " 'cam_channels': ['ring_rear_left',\n",
       "  'ring_side_left',\n",
       "  'ring_front_left',\n",
       "  'ring_front_center',\n",
       "  'ring_front_right',\n",
       "  'ring_side_right',\n",
       "  'ring_rear_right'],\n",
       " 'intrinsics': {'ring_rear_left': Intrinsics(fx_px=1683.679818863081, fy_px=1683.679818863081, cx_px=1026.1526389231901, cy_px=771.4666541420552, width_px=2048, height_px=1550),\n",
       "  'ring_side_left': Intrinsics(fx_px=1682.2951073529744, fy_px=1682.2951073529744, cx_px=1028.200350610672, cy_px=770.2098382441894, width_px=2048, height_px=1550),\n",
       "  'ring_front_left': Intrinsics(fx_px=1686.3650284628297, fy_px=1686.3650284628297, cx_px=1024.1901014115026, cy_px=768.9183418983952, width_px=2048, height_px=1550),\n",
       "  'ring_front_center': Intrinsics(fx_px=1773.3487741058036, fy_px=1773.3487741058036, cx_px=776.0689257366744, cy_px=1017.9576452342237, width_px=1550, height_px=2048),\n",
       "  'ring_front_right': Intrinsics(fx_px=1683.353997792869, fy_px=1683.353997792869, cx_px=1021.2582747037648, cy_px=769.7883267612932, width_px=2048, height_px=1550),\n",
       "  'ring_side_right': Intrinsics(fx_px=1684.2001303018474, fy_px=1684.2001303018474, cx_px=1024.257790074686, cy_px=770.0384573480068, width_px=2048, height_px=1550),\n",
       "  'ring_rear_right': Intrinsics(fx_px=1684.2451410980646, fy_px=1684.2451410980646, cx_px=1026.7355676425918, cy_px=765.7801288597409, width_px=2048, height_px=1550)},\n",
       " 'extrinsics': {'ring_rear_left': array([[ 4.53868784e-01,  8.91061955e-01,  3.42338035e-03,\n",
       "          -6.16016457e-01],\n",
       "         [ 8.34910696e-06,  3.83762961e-03, -9.99992636e-01,\n",
       "           1.45232037e+00],\n",
       "         [-8.91068531e-01,  4.53865471e-01,  1.73434071e-03,\n",
       "           9.24225389e-01],\n",
       "         [ 0.00000000e+00,  0.00000000e+00,  0.00000000e+00,\n",
       "           1.00000000e+00]]),\n",
       "  'ring_side_left': array([[ 0.98739552,  0.15826529,  0.00147473, -1.34065569],\n",
       "         [ 0.0093455 , -0.04899879, -0.99875512,  1.44689654],\n",
       "         [-0.15799601,  0.98618011, -0.04986025,  0.01883926],\n",
       "         [ 0.        ,  0.        ,  0.        ,  1.        ]]),\n",
       "  'ring_front_left': array([[ 0.70547285, -0.70871425, -0.00567215, -0.94458516],\n",
       "         [-0.04384865, -0.03565745, -0.99840164,  1.52278799],\n",
       "         [ 0.70737921,  0.70459397, -0.05623153, -1.14427986],\n",
       "         [ 0.        ,  0.        ,  0.        ,  1.        ]]),\n",
       "  'ring_front_center': array([[ 2.93253336e-03, -9.99938157e-01, -1.07276855e-02,\n",
       "           6.22723344e-03],\n",
       "         [ 5.12633333e-04,  1.07292335e-02, -9.99942309e-01,\n",
       "           1.46341087e+00],\n",
       "         [ 9.99995569e-01,  2.92686480e-03,  5.44065465e-04,\n",
       "          -1.62049740e+00],\n",
       "         [ 0.00000000e+00,  0.00000000e+00,  0.00000000e+00,\n",
       "           1.00000000e+00]]),\n",
       "  'ring_front_right': array([[-0.70717985, -0.70701433, -0.00523523,  0.96331653],\n",
       "         [-0.03758399,  0.04498476, -0.99828043,  1.50826822],\n",
       "         [ 0.70603407, -0.70576704, -0.05838473, -1.14561196],\n",
       "         [ 0.        ,  0.        ,  0.        ,  1.        ]]),\n",
       "  'ring_side_right': array([[-0.98625639,  0.16521529,  0.00149427,  1.33112417],\n",
       "         [ 0.00908627,  0.06326658, -0.9979553 ,  1.45249378],\n",
       "         [-0.16497201, -0.98422622, -0.06389826,  0.0432757 ],\n",
       "         [ 0.        ,  0.        ,  0.        ,  1.        ]]),\n",
       "  'ring_rear_right': array([[-0.44686149,  0.894575  ,  0.00709784,  0.59644235],\n",
       "         [ 0.00328713,  0.00957591, -0.99994875,  1.44430178],\n",
       "         [-0.89459712, -0.44681525, -0.00721969,  0.93994131],\n",
       "         [ 0.        ,  0.        ,  0.        ,  1.        ]])},\n",
       " 'images': [PosixPath('/srv/datasets/argoverse2/sensor/train/85026edc-5fdf-308e-a8ef-a1aad1151c50/sensors/cameras/ring_rear_left/315969704857428274.jpg'),\n",
       "  PosixPath('/srv/datasets/argoverse2/sensor/train/85026edc-5fdf-308e-a8ef-a1aad1151c50/sensors/cameras/ring_side_left/315969704872412945.jpg'),\n",
       "  PosixPath('/srv/datasets/argoverse2/sensor/train/85026edc-5fdf-308e-a8ef-a1aad1151c50/sensors/cameras/ring_front_left/315969704837425442.jpg'),\n",
       "  PosixPath('/srv/datasets/argoverse2/sensor/train/85026edc-5fdf-308e-a8ef-a1aad1151c50/sensors/cameras/ring_front_center/315969704849927209.jpg'),\n",
       "  PosixPath('/srv/datasets/argoverse2/sensor/train/85026edc-5fdf-308e-a8ef-a1aad1151c50/sensors/cameras/ring_front_right/315969704862451238.jpg'),\n",
       "  PosixPath('/srv/datasets/argoverse2/sensor/train/85026edc-5fdf-308e-a8ef-a1aad1151c50/sensors/cameras/ring_side_right/315969704877482491.jpg'),\n",
       "  PosixPath('/srv/datasets/argoverse2/sensor/train/85026edc-5fdf-308e-a8ef-a1aad1151c50/sensors/cameras/ring_rear_right/315969704842441192.jpg')]}"
      ]
     },
     "execution_count": 149,
     "metadata": {},
     "output_type": "execute_result"
    }
   ],
   "source": [
    "data.samples[0]"
   ]
  },
  {
   "cell_type": "code",
   "execution_count": 103,
   "metadata": {},
   "outputs": [
    {
     "name": "stdout",
     "output_type": "stream",
     "text": [
      "(array([  0.,  30.,  80., 127., 144., 220., 255.]), array([1836936,    8492,      20,      20,    8492,  537528,    8512]))\n"
     ]
    }
   ],
   "source": [
    "print(np.unique(cmap,return_counts=True))\n"
   ]
  },
  {
   "cell_type": "code",
   "execution_count": 104,
   "metadata": {},
   "outputs": [
    {
     "name": "stdout",
     "output_type": "stream",
     "text": [
      "(800000, 3)\n",
      "200 200 1\n",
      "100 100 1\n",
      "(800000, 3)\n"
     ]
    }
   ],
   "source": [
    "print(points_xy_wrt_city.shape)\n",
    "print(data.bev_info['h'], data.bev_info['w'], 1)\n",
    "print(data.bev_info['h_meters'], data.bev_info['w_meters'], 1)\n",
    "print(cmap.shape)"
   ]
  },
  {
   "cell_type": "code",
   "execution_count": 108,
   "metadata": {},
   "outputs": [
    {
     "data": {
      "text/plain": [
       "<mpl_toolkits.mplot3d.art3d.Path3DCollection at 0x7f086064fbb0>"
      ]
     },
     "execution_count": 108,
     "metadata": {},
     "output_type": "execute_result"
    },
    {
     "data": {
      "image/png": "[encoded data removed]",
      "text/plain": [
       "<Figure size 640x480 with 1 Axes>"
      ]
     },
     "metadata": {},
     "output_type": "display_data"
    }
   ],
   "source": [
    "# import sys  \n",
    "# !{sys.executable} -m pip install --user matplotlib_inline\n",
    "\n",
    "%matplotlib inline\n",
    "import matplotlib.pyplot as plt\n",
    "fig = plt.figure()\n",
    "ax = plt.axes(projection='3d')\n",
    "jj = points_xy_wrt_city[cmap[:,0]==0]\n",
    "jmap = cmap[cmap[:,0]!=0]\n",
    "ax.scatter3D(jj[:,0],\n",
    "           jj[:,1],\n",
    "            jj[:,2],\n",
    "            cmap=jmap\n",
    "           )"
   ]
  },
  {
   "cell_type": "code",
   "execution_count": 75,
   "metadata": {},
   "outputs": [],
   "source": [
    "from __future__ import annotations\n",
    "\n",
    "from typing import Any  # noqa\n",
    "\n",
    "import numpy as np\n",
    "import numpy.typing as npt\n",
    "from av2.geometry.geometry import crop_points\n",
    "\n",
    "NDArrayNumber = npt.NDArray[\"np.number[Any]\"]\n",
    "NDArrayBool = npt.NDArray[np.bool_]\n",
    "NDArrayFloat = npt.NDArray[np.float64]\n",
    "NDArrayByte = npt.NDArray[np.uint8]\n",
    "NDArrayInt = npt.NDArray[np.int64]\n",
    "NDArrayObject = npt.NDArray[np.object_]\n",
    "NDArrayByte\n",
    "NDArrayByte = npt.NDArray[np.uint8]\n",
    "\n",
    "def xyz_to_bev(\n",
    "    xyz: NDArrayFloat,\n",
    "    voxel_resolution: Tuple[float, float, float],\n",
    "    grid_size_m: Tuple[float, float, float],\n",
    "    cmap: NDArrayFloat,\n",
    ") -> NDArrayByte:\n",
    "    \"\"\"Convert a set of points in Cartesian space to a bird's-eye-view image.\n",
    "    Args:\n",
    "        xyz: (N,3) List of points in R^3.\n",
    "        voxel_resolution: (3,) Number of voxel bins in the (x,y,z) axes.\n",
    "        grid_size_m: (3,) Size of the grid in the (x,y,z) axes.\n",
    "        cmap: RGB colormap.\n",
    "    Returns:\n",
    "        (H,W,3) RGB image representing a BEV projection onto the xy plane.\n",
    "    \"\"\"\n",
    "    cmap /= 255.0\n",
    "\n",
    "    # If only xyz are provided, then assume intensity is 1.0.\n",
    "    # Otherwise, use the provided intensity.\n",
    "    print(xyz.shape[-1])\n",
    "    intensity: NDArrayByte\n",
    "    if xyz.shape[-1] == 3:\n",
    "        intensity = np.ones(shape=xyz.shape[0], dtype=np.uint8)\n",
    "    else:\n",
    "        intensity = xyz[..., -1].copy().astype(np.uint8)\n",
    "    \n",
    "    # Grab the Cartesian coordinates (xyz).\n",
    "    cart = xyz[..., :-1].copy()\n",
    "    # cart = xyz.copy()\n",
    "\n",
    "    # Move the origin to the center of the image.\n",
    "    cart += np.divide(grid_size_m, 2)\n",
    "\n",
    "    # Scale the Cartesian coordinates by the voxel resolution.\n",
    "    indices: NDArrayInt = (cart / voxel_resolution).astype(int)\n",
    "\n",
    "    # Compute the voxel grid size.\n",
    "    voxel_grid_size_m = (\n",
    "        int(grid_size_m[0] / voxel_resolution[0]),\n",
    "        int(grid_size_m[1] / voxel_resolution[1]),\n",
    "        int(grid_size_m[2] / voxel_resolution[2]),\n",
    "    )\n",
    "\n",
    "    # Crop point cloud to the region-of-interest.\n",
    "    lower_bound_inclusive = (0.0, 0.0, 0.0)\n",
    "    indices_cropped, grid_boundary_reduction = crop_points(\n",
    "        indices, lower_bound_inclusive=lower_bound_inclusive, upper_bound_exclusive=grid_size_m\n",
    "    )\n",
    "    print(np.count_nonzero(grid_boundary_reduction),grid_boundary_reduction.shape, grid_boundary_reduction)\n",
    "    print(np.count_nonzero(indices_cropped), indices_cropped.shape, indices_cropped)\n",
    "\n",
    "    # Filter the indices and intensity values.\n",
    "    cmap = cmap[grid_boundary_reduction]\n",
    "    intensity = intensity[grid_boundary_reduction]\n",
    "\n",
    "    # Create the raster image.\n",
    "    im_dims = (voxel_grid_size_m[0] + 1, voxel_grid_size_m[1] + 1, cmap.shape[1])\n",
    "    img: NDArrayByte = np.zeros(im_dims, dtype=np.uint8)\n",
    "\n",
    "    # Construct uv coordinates.\n",
    "    uv = indices_cropped[:, :2]\n",
    "\n",
    "    npoints = len(indices_cropped)\n",
    "    for i in range(npoints):\n",
    "        u = uv[i, 0]\n",
    "        v = uv[i, 1]\n",
    "\n",
    "        img[u, v, :3] = cmap[i]\n",
    "        img[u, v, 3:4] += intensity[i]\n",
    "\n",
    "    # Normalize the intensity.\n",
    "    img[..., -1] = img[..., -1] / img[..., -1].max()\n",
    "\n",
    "    # Gamma correction.\n",
    "    img[..., -1] = np.power(img[..., -1], 0.05)\n",
    "\n",
    "    # Scale RGB by intensity.\n",
    "    img[..., :3] *= img[..., -1:]\n",
    "\n",
    "    # Map RGB in [0, 1] -> [0, 255].\n",
    "    img[..., :3] = img[..., :3] * 255.0\n",
    "    im_rgb: NDArrayByte = img[..., :3]\n",
    "    return im_rgb"
   ]
  },
  {
   "cell_type": "code",
   "execution_count": 77,
   "metadata": {},
   "outputs": [
    {
     "name": "stdout",
     "output_type": "stream",
     "text": [
      "4\n",
      "0 (800000,) [False False False ... False False False]\n",
      "0 (0, 3) []\n"
     ]
    },
    {
     "name": "stderr",
     "output_type": "stream",
     "text": [
      "/tmp/ipykernel_14197/2841141027.py:89: RuntimeWarning: invalid value encountered in divide\n",
      "  img[..., -1] = img[..., -1] / img[..., -1].max()\n"
     ]
    }
   ],
   "source": [
    "output_bev = xyz_to_bev(\n",
    "    xyz=np.hstack((points_xy_wrt_city, np.ones(points_xy_wrt_city.shape[0])[:, None])),\n",
    "    voxel_resolution=(1,1,1),\n",
    "    grid_size_m=(data.bev_info['h_meters'], data.bev_info['w_meters'],1),\n",
    "    cmap=cmap\n",
    ")"
   ]
  },
  {
   "cell_type": "code",
   "execution_count": 73,
   "metadata": {},
   "outputs": [
    {
     "data": {
      "text/plain": [
       "(1001, 1001, 3)"
      ]
     },
     "execution_count": 73,
     "metadata": {},
     "output_type": "execute_result"
    }
   ],
   "source": [
    "output_bev.shape"
   ]
  },
  {
   "cell_type": "code",
   "execution_count": 113,
   "metadata": {},
   "outputs": [],
   "source": [
    "np.save('/srv/share2/apatni30/tmp/points_src.npy',points_xy_wrt_src)\n",
    "np.save('/srv/share2/apatni30/tmp/cmap.npy',cmap)"
   ]
  },
  {
   "cell_type": "code",
   "execution_count": null,
   "metadata": {},
   "outputs": [],
   "source": []
  }
 ],
 "metadata": {
  "kernelspec": {
   "display_name": "rasternet",
   "language": "python",
   "name": "python3"
  },
  "language_info": {
   "codemirror_mode": {
    "name": "ipython",
    "version": 3
   },
   "file_extension": ".py",
   "mimetype": "text/x-python",
   "name": "python",
   "nbconvert_exporter": "python",
   "pygments_lexer": "ipython3",
   "version": "3.8.16"
  },
  "orig_nbformat": 4,
  "vscode": {
   "interpreter": {
    "hash": "e08d91b6a2a078695a7516f6a27ba45b23092861ab73d6efa1331f8068174bf5"
   }
  }
 },
 "nbformat": 4,
 "nbformat_minor": 2
}
